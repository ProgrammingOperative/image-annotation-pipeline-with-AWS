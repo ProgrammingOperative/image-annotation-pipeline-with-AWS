{
 "cells": [
  {
   "cell_type": "code",
   "execution_count": 4,
   "metadata": {},
   "outputs": [],
   "source": [
    "from kafka import KafkaConsumer\n",
    "import os"
   ]
  },
  {
   "cell_type": "code",
   "execution_count": 5,
   "metadata": {},
   "outputs": [
    {
     "name": "stdout",
     "output_type": "stream",
     "text": [
      "Image received and saved: ../data/received_images/image_27.jpg\n",
      "Image received and saved: ../data/received_images/image_28.jpg\n",
      "Image received and saved: ../data/received_images/image_29.jpg\n",
      "Image received and saved: ../data/received_images/image_30.jpg\n"
     ]
    }
   ],
   "source": [
    "\n",
    "\n",
    "# Kafka broker's IP address and port\n",
    "bootstrap_servers = '3.135.193.255:9092'\n",
    "\n",
    "# Kafka topic to consume from\n",
    "topic = 'demo_testing2'\n",
    "\n",
    "# Directory to save received images\n",
    "save_dir = '../data/received_images'\n",
    "\n",
    "# Create the directory if it doesn't exist\n",
    "os.makedirs(save_dir, exist_ok=True)\n",
    "\n",
    "# Create a Kafka consumer\n",
    "consumer = KafkaConsumer(topic, bootstrap_servers=bootstrap_servers)\n",
    "\n",
    "# Receive and save image files\n",
    "for message in consumer:\n",
    "    # Save the image with a unique name\n",
    "    image_name = f\"{save_dir}/image_{message.offset}.jpg\"\n",
    "    with open(image_name, 'wb') as f:\n",
    "        f.write(message.value)\n",
    "    \n",
    "    print(f\"Image received and saved: {image_name}\")\n",
    "\n",
    "# Close the consumer\n",
    "consumer.close()\n"
   ]
  }
 ],
 "metadata": {
  "kernelspec": {
   "display_name": "data_engineering",
   "language": "python",
   "name": "python3"
  },
  "language_info": {
   "codemirror_mode": {
    "name": "ipython",
    "version": 3
   },
   "file_extension": ".py",
   "mimetype": "text/x-python",
   "name": "python",
   "nbconvert_exporter": "python",
   "pygments_lexer": "ipython3",
   "version": "3.8.17"
  }
 },
 "nbformat": 4,
 "nbformat_minor": 2
}
