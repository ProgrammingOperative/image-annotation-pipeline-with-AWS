{
 "cells": [
  {
   "cell_type": "code",
   "execution_count": null,
   "metadata": {},
   "outputs": [],
   "source": [
    "from kafka import KafkaConsumer\n",
    "import os"
   ]
  },
  {
   "cell_type": "code",
   "execution_count": null,
   "metadata": {},
   "outputs": [],
   "source": [
    "\n",
    "\n",
    "# Kafka broker's IP address and port\n",
    "bootstrap_servers = '3.135.193.255:9092'\n",
    "\n",
    "# Kafka topic to consume from\n",
    "topic = 'demo_testing2'\n",
    "\n",
    "# Directory to save received images\n",
    "save_dir = 'received_images'\n",
    "\n",
    "# Create the directory if it doesn't exist\n",
    "os.makedirs(save_dir, exist_ok=True)\n",
    "\n",
    "# Create a Kafka consumer\n",
    "consumer = KafkaConsumer(topic, bootstrap_servers=bootstrap_servers)\n",
    "\n",
    "# Receive and save image files\n",
    "for message in consumer:\n",
    "    # Save the image with a unique name\n",
    "    image_name = f\"{save_dir}/image_{message.offset}.jpg\"\n",
    "    with open(image_name, 'wb') as f:\n",
    "        f.write(message.value)\n",
    "    \n",
    "    print(f\"Image received and saved: {image_name}\")\n",
    "\n",
    "# Close the consumer\n",
    "consumer.close()\n"
   ]
  }
 ],
 "metadata": {
  "language_info": {
   "name": "python"
  }
 },
 "nbformat": 4,
 "nbformat_minor": 2
}
