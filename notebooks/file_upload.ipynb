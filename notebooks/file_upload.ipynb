{
 "cells": [
  {
   "cell_type": "code",
   "execution_count": 34,
   "metadata": {},
   "outputs": [],
   "source": [
    "import boto3\n",
    "import os"
   ]
  },
  {
   "cell_type": "code",
   "execution_count": 35,
   "metadata": {},
   "outputs": [],
   "source": [
    "import configparser\n",
    "config = configparser.ConfigParser()\n",
    "config.read_file(open('../configurations/ec2_access.config'))"
   ]
  },
  {
   "cell_type": "code",
   "execution_count": 36,
   "metadata": {},
   "outputs": [],
   "source": [
    "# AWS credentials\n",
    "AWS_ACCESS_KEY_ID = config.get('AWS', 'ACCESS_KEY')\n",
    "AWS_SECRET_ACCESS_KEY = config.get('AWS', 'SECRET_KEY')\n",
    "AWS_REGION_NAME = config.get('AWS', 'REGION')\n",
    "\n",
    "# S3 bucket information\n",
    "BUCKET_NAME = config.get('AWS', 'BUCKET_NAME')"
   ]
  },
  {
   "cell_type": "code",
   "execution_count": 37,
   "metadata": {},
   "outputs": [],
   "source": [
    "# Function to upload files to S3\n",
    "def upload_to_s3(file_path, bucket_name, folder_name=None):\n",
    "    # Connect to S3\n",
    "    s3 = boto3.client('s3',\n",
    "                      aws_access_key_id=AWS_ACCESS_KEY_ID,\n",
    "                      aws_secret_access_key=AWS_SECRET_ACCESS_KEY,\n",
    "                      region_name=AWS_REGION_NAME)\n",
    "    \n",
    "    # Prepare the S3 key\n",
    "    s3_key = os.path.basename(file_path)\n",
    "    \n",
    "    # Upload file to S3\n",
    "    try:\n",
    "        s3.upload_file(file_path, bucket_name, s3_key)\n",
    "        print(f\"File uploaded successfully to S3://{bucket_name}/{s3_key}\")\n",
    "    except Exception as e:\n",
    "        print(f\"Error uploading file to S3: {e}\")"
   ]
  },
  {
   "cell_type": "code",
   "execution_count": 38,
   "metadata": {},
   "outputs": [],
   "source": [
    "# Local directory containing image files\n",
    "local_directory = '../data/'\n",
    "\n",
    "# List all image files in the directory\n",
    "image_files = [f for f in os.listdir(local_directory) if f.endswith(('.jpg', '.jpeg', '.png'))]\n"
   ]
  },
  {
   "cell_type": "code",
   "execution_count": 39,
   "metadata": {},
   "outputs": [
    {
     "name": "stdout",
     "output_type": "stream",
     "text": [
      "File uploaded successfully to S3://on-premise-cloud-upload/dannie-sorum-XXO_wyBk0Ok-unsplash.jpg\n",
      "File uploaded successfully to S3://on-premise-cloud-upload/yasamine-june-RoC4Rsd_fvk-unsplash.jpg\n",
      "File uploaded successfully to S3://on-premise-cloud-upload/batch-by-wisconsin-hemp-scientific-NDPUzuo5a8M-unsplash.jpg\n",
      "File uploaded successfully to S3://on-premise-cloud-upload/batch-by-wisconsin-hemp-scientific-3UlxP3At5ps-unsplash.jpg\n",
      "File uploaded successfully to S3://on-premise-cloud-upload/toa-heftiba-9C-r0r7cg3E-unsplash.jpg\n",
      "File uploaded successfully to S3://on-premise-cloud-upload/yasamine-june-9w5mgRlXIBE-unsplash.jpg\n",
      "File uploaded successfully to S3://on-premise-cloud-upload/karly-gomez-lK1Q5RyD6tc-unsplash.jpg\n",
      "File uploaded successfully to S3://on-premise-cloud-upload/brooke-lark-08bOYnH_r_E-unsplash.jpg\n",
      "File uploaded successfully to S3://on-premise-cloud-upload/batch-by-wisconsin-hemp-scientific-6z4UNE5BHnM-unsplash.jpg\n",
      "File uploaded successfully to S3://on-premise-cloud-upload/batch-by-wisconsin-hemp-scientific-2EIgQK1Je3E-unsplash.jpg\n",
      "File uploaded successfully to S3://on-premise-cloud-upload/yasamine-june-wh9Cbrl9yGY-unsplash.jpg\n",
      "File uploaded successfully to S3://on-premise-cloud-upload/batch-by-wisconsin-hemp-scientific-5SV0gfV-3lk-unsplash.jpg\n",
      "File uploaded successfully to S3://on-premise-cloud-upload/sangga-rima-roman-selia-CS1cRvueOjI-unsplash.jpg\n",
      "File uploaded successfully to S3://on-premise-cloud-upload/image1.jpg\n",
      "File uploaded successfully to S3://on-premise-cloud-upload/yasamine-june-Wkd6k7F6VUw-unsplash.jpg\n"
     ]
    }
   ],
   "source": [
    "# Upload each image file to S3\n",
    "for file_name in image_files:\n",
    "    file_path = os.path.join(local_directory, file_name)\n",
    "    upload_to_s3(file_path, BUCKET_NAME)"
   ]
  }
 ],
 "metadata": {
  "kernelspec": {
   "display_name": "data_engineering",
   "language": "python",
   "name": "python3"
  },
  "language_info": {
   "codemirror_mode": {
    "name": "ipython",
    "version": 3
   },
   "file_extension": ".py",
   "mimetype": "text/x-python",
   "name": "python",
   "nbconvert_exporter": "python",
   "pygments_lexer": "ipython3",
   "version": "3.8.17"
  }
 },
 "nbformat": 4,
 "nbformat_minor": 2
}
