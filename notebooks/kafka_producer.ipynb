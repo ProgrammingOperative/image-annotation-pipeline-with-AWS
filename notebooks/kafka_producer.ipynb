{
 "cells": [
  {
   "cell_type": "code",
   "execution_count": 1,
   "metadata": {},
   "outputs": [],
   "source": [
    "import boto3\n",
    "import pandas as pd\n",
    "import os"
   ]
  },
  {
   "cell_type": "code",
   "execution_count": null,
   "metadata": {},
   "outputs": [],
   "source": [
    "import pandas as pd\n",
    "from kafka import KafkaProducer\n",
    "from time import sleep\n",
    "from json import dumps\n",
    "import json"
   ]
  },
  {
   "cell_type": "code",
   "execution_count": 2,
   "metadata": {},
   "outputs": [
    {
     "data": {
      "text/plain": [
       "['dannie-sorum-XXO_wyBk0Ok-unsplash.jpg',\n",
       " 'yasamine-june-RoC4Rsd_fvk-unsplash.jpg',\n",
       " 'batch-by-wisconsin-hemp-scientific-NDPUzuo5a8M-unsplash.jpg',\n",
       " 'batch-by-wisconsin-hemp-scientific-3UlxP3At5ps-unsplash.jpg',\n",
       " 'toa-heftiba-9C-r0r7cg3E-unsplash.jpg',\n",
       " 'yasamine-june-9w5mgRlXIBE-unsplash.jpg',\n",
       " 'karly-gomez-lK1Q5RyD6tc-unsplash.jpg',\n",
       " 'brooke-lark-08bOYnH_r_E-unsplash.jpg',\n",
       " 'batch-by-wisconsin-hemp-scientific-6z4UNE5BHnM-unsplash.jpg',\n",
       " 'batch-by-wisconsin-hemp-scientific-2EIgQK1Je3E-unsplash.jpg',\n",
       " 'yasamine-june-wh9Cbrl9yGY-unsplash.jpg',\n",
       " 'batch-by-wisconsin-hemp-scientific-5SV0gfV-3lk-unsplash.jpg',\n",
       " 'sangga-rima-roman-selia-CS1cRvueOjI-unsplash.jpg',\n",
       " 'image1.jpg',\n",
       " 'yasamine-june-Wkd6k7F6VUw-unsplash.jpg']"
      ]
     },
     "execution_count": 2,
     "metadata": {},
     "output_type": "execute_result"
    }
   ],
   "source": [
    "image_dir = \"../data/\"\n",
    "image_list = os.listdir(image_dir)\n",
    "\n",
    "# Kafka broker's IP address and port\n",
    "bootstrap_servers = '3.135.193.255:9092'\n",
    "\n",
    "# Create a Kafka producer\n",
    "producer = KafkaProducer(bootstrap_servers=bootstrap_servers)\n",
    "\n",
    "\n",
    "for img in image_list:\n",
    "    img_path = f\"{image_dir}/{img}\"\n",
    "\n",
    "    with open(img_path, 'rb') as f:\n",
    "        image_data = f.read()\n",
    "        # Send the image data to Kafka topic\n",
    "        producer.send('demo_testing2', value=image_data)\n",
    "        producer.flush()\n",
    "\n",
    "        print(\"Image sent successfully to Kafka topic\")\n",
    "\n",
    "# Close the producer\n",
    "producer.close()\n"
   ]
  },
  {
   "cell_type": "code",
   "execution_count": null,
   "metadata": {},
   "outputs": [],
   "source": [
    "# Kafka broker's IP address and port\n",
    "bootstrap_servers = '3.135.193.255:9092'\n",
    "\n",
    "# Create a Kafka producer\n",
    "producer = KafkaProducer(bootstrap_servers=bootstrap_servers)\n",
    "\n",
    "# Path to the image file\n",
    "image_path = 'image.jpg'\n",
    "\n",
    "# Read the image file as binary\n",
    "with open(image_path, 'rb') as f:\n",
    "    image_data = f.read()\n",
    "\n",
    "# Send the image data to Kafka topic\n",
    "producer.send('demo_testing2', value=image_data)\n",
    "producer.flush()\n",
    "\n",
    "print(\"Image sent successfully to Kafka topic\")\n",
    "\n",
    "# Close the producer\n",
    "producer.close()\n"
   ]
  }
 ],
 "metadata": {
  "kernelspec": {
   "display_name": "data_engineering",
   "language": "python",
   "name": "python3"
  },
  "language_info": {
   "codemirror_mode": {
    "name": "ipython",
    "version": 3
   },
   "file_extension": ".py",
   "mimetype": "text/x-python",
   "name": "python",
   "nbconvert_exporter": "python",
   "pygments_lexer": "ipython3",
   "version": "3.8.17"
  }
 },
 "nbformat": 4,
 "nbformat_minor": 2
}
