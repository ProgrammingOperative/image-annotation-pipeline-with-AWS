{
 "cells": [
  {
   "cell_type": "code",
   "execution_count": 1,
   "metadata": {},
   "outputs": [],
   "source": [
    "import boto3\n",
    "import pandas as pd\n",
    "import os\n",
    "import base64"
   ]
  },
  {
   "cell_type": "code",
   "execution_count": 2,
   "metadata": {},
   "outputs": [],
   "source": [
    "import pandas as pd\n",
    "from kafka import KafkaProducer\n",
    "from time import sleep\n",
    "# from json import dumps\n",
    "# import json"
   ]
  },
  {
   "cell_type": "code",
   "execution_count": 3,
   "metadata": {},
   "outputs": [
    {
     "name": "stdout",
     "output_type": "stream",
     "text": [
      "Image sent successfully to Kafka topic\n",
      "Image sent successfully to Kafka topic\n",
      "Image sent successfully to Kafka topic\n",
      "Image sent successfully to Kafka topic\n",
      "Image sent successfully to Kafka topic\n",
      "Image sent successfully to Kafka topic\n",
      "Image sent successfully to Kafka topic\n",
      "Image sent successfully to Kafka topic\n",
      "Image sent successfully to Kafka topic\n",
      "Image sent successfully to Kafka topic\n",
      "Image sent successfully to Kafka topic\n",
      "Image sent successfully to Kafka topic\n",
      "Image sent successfully to Kafka topic\n",
      "Image sent successfully to Kafka topic\n",
      "Image sent successfully to Kafka topic\n"
     ]
    }
   ],
   "source": [
    "image_dir = \"../data/to_Send\"\n",
    "image_list = os.listdir(image_dir)\n",
    "\n",
    "# Kafka broker's IP address and port\n",
    "bootstrap_servers = '3.144.237.39:9092'\n",
    "\n",
    "# Create a Kafka producer\n",
    "producer = KafkaProducer(bootstrap_servers=bootstrap_servers)\n",
    "\n",
    "\n",
    "for img in image_list:\n",
    "    img_path = f\"{image_dir}/{img}\"\n",
    "\n",
    "    with open(img_path, 'rb') as f:\n",
    "        image_data = f.read()\n",
    "        # Send the image data to Kafka topic\n",
    "        image_base64 = base64.b64encode(image_data)\n",
    "\n",
    "        producer.send('demo_testing2', value=image_base64)\n",
    "        producer.flush()\n",
    "\n",
    "        print(\"Image sent successfully to Kafka topic\")\n",
    "        sleep(1)\n",
    "\n",
    "# Close the producer\n",
    "producer.close()\n"
   ]
  }
 ],
 "metadata": {
  "kernelspec": {
   "display_name": "data_engineering",
   "language": "python",
   "name": "python3"
  },
  "language_info": {
   "codemirror_mode": {
    "name": "ipython",
    "version": 3
   },
   "file_extension": ".py",
   "mimetype": "text/x-python",
   "name": "python",
   "nbconvert_exporter": "python",
   "pygments_lexer": "ipython3",
   "version": "3.8.17"
  }
 },
 "nbformat": 4,
 "nbformat_minor": 2
}
