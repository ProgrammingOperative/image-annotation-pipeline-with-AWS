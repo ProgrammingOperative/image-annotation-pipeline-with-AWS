{
 "cells": [
  {
   "cell_type": "code",
   "execution_count": 2,
   "metadata": {},
   "outputs": [],
   "source": [
    "import boto3\n",
    "import base64\n",
    "import json\n",
    "from kafka import KafkaConsumer\n",
    "from io import BytesIO"
   ]
  },
  {
   "cell_type": "code",
   "execution_count": 1,
   "metadata": {},
   "outputs": [],
   "source": [
    "import configparser\n",
    "config = configparser.ConfigParser()\n",
    "config.read_file(open('../configurations/ec2_access.config'))"
   ]
  },
  {
   "cell_type": "code",
   "execution_count": null,
   "metadata": {},
   "outputs": [],
   "source": [
    "# AWS credentials\n",
    "AWS_ACCESS_KEY_ID = config.get('AWS', 'ACCESS_KEY')\n",
    "AWS_SECRET_ACCESS_KEY = config.get('AWS', 'SECRET_KEY')\n",
    "AWS_REGION_NAME = config.get('AWS', 'REGION')\n",
    "\n",
    "LABELED_BUCKET_NAME = config.get('AWS', 'LABELED_IMAGE_BUCKET_NAME')"
   ]
  },
  {
   "cell_type": "code",
   "execution_count": null,
   "metadata": {},
   "outputs": [],
   "source": [
    "# Kafka configuration\n",
    "bootstrap_servers = 'localhost:9092'\n",
    "consumer_topic = 'labeled_image_topic'\n",
    "\n",
    "# AWS S3 configuration\n",
    "s3_bucket_name = LABELED_BUCKET_NAME\n",
    "s3 = boto3.client('s3',\n",
    "                aws_access_key_id=AWS_ACCESS_KEY_ID,\n",
    "                aws_secret_access_key=AWS_SECRET_ACCESS_KEY,\n",
    "                region_name=AWS_REGION_NAME)\n",
    "\n",
    "def upload_image_to_s3(image_data, label):\n",
    "    # Convert base64 image data to binary\n",
    "    image_binary = base64.b64decode(image_data)\n",
    "    \n",
    "    # Create a BytesIO stream from the binary data\n",
    "    image_stream = BytesIO(image_binary)\n",
    "    \n",
    "    # Define the image filename with the label\n",
    "    filename = f\"{label}.png\"\n",
    "    \n",
    "    # Upload image to S3\n",
    "    s3.upload_fileobj(image_stream, s3_bucket_name, filename)\n",
    "    print(f\"Uploaded {filename} to {s3_bucket_name}\")\n",
    "\n",
    "def consume_and_upload():\n",
    "    # Consume messages from the labeled_image_topic\n",
    "    consumer = KafkaConsumer(\n",
    "        consumer_topic,\n",
    "        bootstrap_servers=bootstrap_servers,\n",
    "        value_deserializer=lambda m: json.loads(m.decode('utf-8'))\n",
    "    )\n",
    "    \n",
    "    for message in consumer:\n",
    "        image_data = message.value['image']\n",
    "        label = message.value['label']\n",
    "        upload_image_to_s3(image_data, label)\n",
    "\n",
    "if __name__ == '__main__':\n",
    "    consume_and_upload()\n"
   ]
  }
 ],
 "metadata": {
  "kernelspec": {
   "display_name": "data_engineering",
   "language": "python",
   "name": "python3"
  },
  "language_info": {
   "codemirror_mode": {
    "name": "ipython",
    "version": 3
   },
   "file_extension": ".py",
   "mimetype": "text/x-python",
   "name": "python",
   "nbconvert_exporter": "python",
   "pygments_lexer": "ipython3",
   "version": "3.8.17"
  }
 },
 "nbformat": 4,
 "nbformat_minor": 2
}
